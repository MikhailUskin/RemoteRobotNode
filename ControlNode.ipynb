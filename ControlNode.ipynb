{
 "cells": [
  {
   "cell_type": "code",
   "execution_count": 1,
   "metadata": {},
   "outputs": [],
   "source": [
    "# Ros libraries\n",
    "import roslib\n",
    "import rospy\n",
    "from geometry_msgs.msg import Twist"
   ]
  },
  {
   "cell_type": "code",
   "execution_count": 2,
   "metadata": {},
   "outputs": [],
   "source": [
    "rospy.init_node('ControlNode')\n",
    "actuator_publisher=rospy.Publisher('/car/actuator_data', Twist, queue_size=10)"
   ]
  },
  {
   "cell_type": "code",
   "execution_count": 8,
   "metadata": {},
   "outputs": [],
   "source": [
    "#### Create Message ####\n",
    "actuatorMessage = Twist()\n",
    "actuatorMessage.linear.x = 0\n",
    "actuatorMessage.linear.y = 0\n",
    "actuatorMessage.linear.z = 0\n",
    "actuatorMessage.angular.x = 0\n",
    "actuatorMessage.angular.y = 0\n",
    "actuatorMessage.angular.z = -40\n",
    "\n",
    "# Publish new message\n",
    "actuator_publisher.publish(actuatorMessage)\n",
    "#actuator_publisher.publish(actuatorMessage)\n",
    "#actuator_publisher.publish(actuatorMessage)"
   ]
  },
  {
   "cell_type": "code",
   "execution_count": null,
   "metadata": {},
   "outputs": [],
   "source": []
  }
 ],
 "metadata": {
  "kernelspec": {
   "display_name": "Python 3",
   "language": "python",
   "name": "python3"
  },
  "language_info": {
   "codemirror_mode": {
    "name": "ipython",
    "version": 3
   },
   "file_extension": ".py",
   "mimetype": "text/x-python",
   "name": "python",
   "nbconvert_exporter": "python",
   "pygments_lexer": "ipython3",
   "version": "3.6.7"
  }
 },
 "nbformat": 4,
 "nbformat_minor": 2
}
