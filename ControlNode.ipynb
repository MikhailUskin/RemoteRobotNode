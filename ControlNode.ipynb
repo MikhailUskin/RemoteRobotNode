{
 "cells": [
  {
   "cell_type": "code",
   "execution_count": 1,
   "metadata": {},
   "outputs": [],
   "source": [
    "import random\n",
    "import math\n",
    "\n",
    "# Ros libraries\n",
    "import roslib\n",
    "import rospy\n",
    "from geometry_msgs.msg import Twist\n",
    "from sensor_msgs.msg import Range"
   ]
  },
  {
   "cell_type": "code",
   "execution_count": 2,
   "metadata": {},
   "outputs": [],
   "source": [
    "PLATFORM_LENGTH_M = 0.25\n",
    "PLATFORM_WIDTH_M = 0.1\n",
    "ONE_TURN_RAD = math.pi"
   ]
  },
  {
   "cell_type": "code",
   "execution_count": 3,
   "metadata": {},
   "outputs": [],
   "source": [
    "class SensorData:\n",
    "    def __init__(self, rangeLeft, rangeFront, rangeRight):\n",
    "        self._rangeLeft = rangeLeft\n",
    "        self._rangeFront = rangeFront\n",
    "        self._rangeRight = rangeRight\n",
    "\n",
    "class ActuatorData:\n",
    "    def __init__(self, distance, azimuth):\n",
    "        self._distance = distance\n",
    "        self._azimuth = azimuth"
   ]
  },
  {
   "cell_type": "code",
   "execution_count": 4,
   "metadata": {},
   "outputs": [],
   "source": [
    "class ControlModel:\n",
    "    def __init__(self):\n",
    "        a = 1\n",
    "        \n",
    "    def adapt(self, SensorData):\n",
    "        return ActuatorData(50*random.randint(1, 5), 50*random.randint(1, 5))"
   ]
  },
  {
   "cell_type": "code",
   "execution_count": 5,
   "metadata": {},
   "outputs": [],
   "source": [
    "class ControlNode:\n",
    "    def __init__(self, model):\n",
    "        self._model = model\n",
    "        rospy.init_node('ControlNode', anonymous=True)\n",
    "        self._publisher = rospy.Publisher('/car/actuator_data', Twist, queue_size=10)\n",
    "        self._subscriber = rospy.Subscriber(\"/car/range_left\", Range, self.callback,  queue_size = 1)\n",
    "    \n",
    "    def actuate(self, actuator_data):\n",
    "        actuatorMessage = Twist()\n",
    "        actuatorMessage.linear.x = actuator_data._distance\n",
    "        actuatorMessage.linear.y = 0\n",
    "        actuatorMessage.linear.z = 0\n",
    "        actuatorMessage.angular.x = 0\n",
    "        actuatorMessage.angular.y = 0\n",
    "        actuatorMessage.angular.z = actuator_data._azimuth\n",
    "        self._publisher.publish(actuatorMessage)\n",
    "    \n",
    "    def callback(self, ros_data):       \n",
    "        #time1 = time.time()\n",
    "        actuatorData = self._model.adapt(SensorData(1, 1, 1))\n",
    "        #time2 = time.time()\n",
    "        #print(\"{} seconds spent to adapt\", time2-time1) \n",
    "        self.actuate(actuatorData)\n",
    "\n"
   ]
  },
  {
   "cell_type": "code",
   "execution_count": 6,
   "metadata": {},
   "outputs": [],
   "source": [
    "node = ControlNode(ControlModel())\n",
    "try:\n",
    "    rospy.spin()\n",
    "except KeyboardInterrupt:\n",
    "    print(\"Shutting down ROS control node module\")"
   ]
  },
  {
   "cell_type": "code",
   "execution_count": null,
   "metadata": {},
   "outputs": [],
   "source": []
  }
 ],
 "metadata": {
  "kernelspec": {
   "display_name": "Python 3",
   "language": "python",
   "name": "python3"
  },
  "language_info": {
   "codemirror_mode": {
    "name": "ipython",
    "version": 3
   },
   "file_extension": ".py",
   "mimetype": "text/x-python",
   "name": "python",
   "nbconvert_exporter": "python",
   "pygments_lexer": "ipython3",
   "version": "3.6.7"
  }
 },
 "nbformat": 4,
 "nbformat_minor": 2
}
